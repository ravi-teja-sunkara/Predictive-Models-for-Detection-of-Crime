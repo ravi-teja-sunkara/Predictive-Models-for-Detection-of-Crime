{
 "cells": [
  {
   "cell_type": "code",
   "execution_count": 4,
   "metadata": {},
   "outputs": [],
   "source": [
    "import pandas as pd\n",
    "import numpy as np\n",
    "from sklearn.utils import shuffle\n",
    "\n",
    "from sklearn.cluster import KMeans\n",
    "from sklearn.model_selection import train_test_split\n",
    "import csv\n",
    "import math\n",
    "import matplotlib.pyplot\n",
    "from matplotlib import pyplot as plt\n",
    "\n",
    "from keras.models import Sequential\n",
    "from keras.layers import Dense, Activation, Dropout\n",
    "from keras.optimizers import SGD, Adam, RMSprop\n",
    "from keras.callbacks import EarlyStopping, TensorBoard\n",
    "import keras.backend as K"
   ]
  },
  {
   "cell_type": "code",
   "execution_count": 5,
   "metadata": {},
   "outputs": [],
   "source": [
    "# Creating dataframes\n",
    "same_pairs = pd.read_csv(\"same_pairs.csv\")\n",
    "diffn_pairs = pd.read_csv(\"diffn_pairs.csv\")\n",
    "features = pd.read_csv(\"HumanObserved-Features-Data.csv\")\n",
    "\n",
    "# reading GSC data\n",
    "gsc_same = pd.read_csv(\"gsc_same_pairs.csv\")\n",
    "gsc_diffn = pd.read_csv(\"gsc_diffn_pairs.csv\")\n",
    "gsc_features = pd.read_csv(\"gsc-Features.csv\")"
   ]
  },
  {
   "cell_type": "code",
   "execution_count": 6,
   "metadata": {},
   "outputs": [
    {
     "name": "stdout",
     "output_type": "stream",
     "text": [
      "(340, 3)\n",
      "(462, 3)\n",
      "(1489, 3)\n",
      "(1532, 3)\n"
     ]
    }
   ],
   "source": [
    "############## Human Observed Datasets - Removing Duplicates ######################\n",
    "# creating unique Author/Writer dataset for same_pairs\n",
    "split_s = same_pairs['img_id_A'].str.split('(\\d+)([a-z]+)', expand = True) # splitting to get writer ids\n",
    "split_s = split_s.loc[:, [1,2]]\n",
    "split_s.rename(columns={1: 'author', 2:'img'}, inplace = True)\n",
    "# print(split_s)\n",
    "same_pairs = pd.concat([same_pairs,split_s], axis = 1)\n",
    "same_pairs.drop_duplicates(subset='author', keep='first', inplace=True) #dropping duplicate writer images\n",
    "same_pairs = same_pairs.drop(['author', 'img'], axis = 1)\n",
    "# print(same_pairs)\n",
    "print(same_pairs.shape)\n",
    "\n",
    "# creating unique Author/Writer dataset for diffn_pairs\n",
    "split_d = diffn_pairs['img_id_A'].str.split('(\\d+)([a-z]+)', expand = True)\n",
    "split_d = split_d.loc[:, [1,2]]\n",
    "split_d.rename(columns={1: 'author', 2:'img'}, inplace = True)\n",
    "diffn_pairs = pd.concat([diffn_pairs,split_d], axis = 1)\n",
    "diffn_pairs.drop_duplicates(subset='author', keep='first', inplace=True)\n",
    "diffn_pairs = diffn_pairs.drop(['author', 'img'], axis = 1)\n",
    "# print(diffn_pairs)\n",
    "print(diffn_pairs.shape)\n",
    "\n",
    "############## GSC Datasets - Removing Duplicates ########################\n",
    "# creating unique Author/Writer dataset for same_pairs\n",
    "gsc_split_same = gsc_same['img_id_A'].str.split('(\\d+)([a-z]+)', expand = True)\n",
    "gsc_split_same = gsc_split_same.loc[:, [1,2]]\n",
    "gsc_split_same.rename(columns={1: 'author', 2:'img'}, inplace = True)\n",
    "gsc_same = pd.concat([gsc_same, gsc_split_same], axis = 1)\n",
    "gsc_same.drop_duplicates(subset='author', keep='first', inplace=True)\n",
    "gsc_same = gsc_same.drop(['author', 'img'], axis = 1)\n",
    "# print(gsc_same)\n",
    "print(gsc_same.shape)\n",
    "\n",
    "# creating unique Author/Writer dataset for diffn_pairs\n",
    "gsc_split_diffn = gsc_diffn['img_id_A'].str.split('(\\d+)([a-z]+)', expand = True)\n",
    "gsc_split_diffn = gsc_split_diffn.loc[:, [1,2]]\n",
    "gsc_split_diffn.rename(columns={1: 'author', 2:'img'}, inplace = True)\n",
    "gsc_diffn = pd.concat([gsc_diffn, gsc_split_diffn], axis = 1)\n",
    "gsc_diffn.drop_duplicates(subset='author', keep='first', inplace=True)\n",
    "gsc_diffn = gsc_diffn.drop(['author', 'img'], axis = 1)\n",
    "# print(gsc_diffn)\n",
    "print(gsc_diffn.shape)"
   ]
  },
  {
   "cell_type": "code",
   "execution_count": 7,
   "metadata": {},
   "outputs": [
    {
     "name": "stdout",
     "output_type": "stream",
     "text": [
      "Number of unique same writer pairs in Human Observed Dataset:\n",
      "(340, 3)\n",
      "\n",
      "Number of unique different wirter pairs in Human Observed Dataset:\n",
      "(462, 3)\n",
      "\n",
      "Number of unique same writer pairs in GSC:\n",
      "(1489, 3)\n",
      "\n",
      "Number of unique different wirter pairs in GSC:\n",
      "(1532, 3)\n"
     ]
    }
   ],
   "source": [
    "print(\"Number of unique same writer pairs in Human Observed Dataset:\")\n",
    "print(same_pairs.shape)\n",
    "print(\"\\nNumber of unique different wirter pairs in Human Observed Dataset:\")\n",
    "print(diffn_pairs.shape)\n",
    "\n",
    "print(\"\\nNumber of unique same writer pairs in GSC:\")\n",
    "print(gsc_same.shape)\n",
    "print(\"\\nNumber of unique different wirter pairs in GSC:\")\n",
    "print(gsc_diffn.shape)\n",
    "#gsc_diffn.img_id_A.str[:4]"
   ]
  },
  {
   "cell_type": "markdown",
   "metadata": {},
   "source": [
    "## FEATURE CONCATENATION"
   ]
  },
  {
   "cell_type": "code",
   "execution_count": 8,
   "metadata": {},
   "outputs": [
    {
     "name": "stdout",
     "output_type": "stream",
     "text": [
      "\n",
      "Shape of Human Observed Dataset With Feature Concatenation is:\n",
      "(802, 21)\n",
      "\n",
      " Shape of GSC Dataset With Feature Concatenation is:\n",
      "(3021, 1027)\n"
     ]
    }
   ],
   "source": [
    "################### HUMAN OBSERVED DATASET #######################\n",
    "# concatinating same_pairs and diffn_pairs\n",
    "combined_pairs = pd.concat([same_pairs, diffn_pairs], join = 'inner', ignore_index = True)\n",
    "concat1 = pd.merge(combined_pairs, features, how = 'inner', left_on = 'img_id_A', right_on = 'img_id') # adding features of img_id_A\n",
    "concat2 = pd.merge(concat1, features, how = 'inner', left_on = 'img_id_B', right_on = 'img_id') # adding features of 'img_id_B' from 'features' dataframe\n",
    "human_concat = concat2.drop(['Unnamed: 0_x', 'Unnamed: 0_y', 'img_id_x', 'img_id_y'], axis = 1) #dropping unnecessary columns\n",
    "\n",
    "# re-ordering the columns\n",
    "cols = list(human_concat) # creating a list of columns\n",
    "cols.insert(21, cols.pop(cols.index('target'))) # moving the 'target' column to the end\n",
    "human_concat = human_concat.loc[:, cols]\n",
    "\n",
    "# randomising the rows and using a random_state to maintain a state\n",
    "human_concat = human_concat.sample(frac=1, random_state=121).reset_index(drop = True)\n",
    "print(\"\\nShape of Human Observed Dataset With Feature Concatenation is:\")\n",
    "print(human_concat.shape)\n",
    "\n",
    "################ GSC DATASET #######################\n",
    "# concatinating GSC pairs\n",
    "gsc_combined_pairs = pd.concat([gsc_same, gsc_diffn], join = 'inner', ignore_index = True)\n",
    "gsc_concat1 = pd.merge(gsc_combined_pairs, gsc_features, how = 'inner', left_on = 'img_id_A', right_on = 'img_id')\n",
    "gsc_concat2 = pd.merge(gsc_concat1, gsc_features, how = 'inner', left_on = 'img_id_B', right_on = 'img_id')\n",
    "gsc_concat = gsc_concat2.drop([ 'img_id_x', 'img_id_y'], axis = 1)\n",
    "\n",
    "# re-ordering the columns\n",
    "cols = list(gsc_concat) # creating a list of columns\n",
    "cols.insert(1027, cols.pop(cols.index('target'))) # moving the 'target' column to the end\n",
    "gsc_concat = gsc_concat.loc[:, cols]\n",
    "\n",
    "# randomising the rows and using a random_state to maintain a state\n",
    "gsc_concat = gsc_concat.sample(frac=1, random_state=121).reset_index(drop = True)\n",
    "\n",
    "print(\"\\n Shape of GSC Dataset With Feature Concatenation is:\")\n",
    "print(gsc_concat.shape)"
   ]
  },
  {
   "cell_type": "markdown",
   "metadata": {},
   "source": [
    "## FEATURE SUBTRACTION"
   ]
  },
  {
   "cell_type": "code",
   "execution_count": 9,
   "metadata": {
    "scrolled": true
   },
   "outputs": [
    {
     "name": "stdout",
     "output_type": "stream",
     "text": [
      "\n",
      "Shape of Human Observed Dataset With Feature Subtraction is:\n",
      "(802, 12)\n",
      "\n",
      " Shape of GSC Dataset With Feature Subtraction is:\n",
      "(3021, 515)\n"
     ]
    }
   ],
   "source": [
    "#################### Creating Human Observed Dataset with Feature Subtraction ######################\n",
    "human_sub = human_concat[['img_id_A', 'img_id_B']].copy()\n",
    "human_sub['f1'] = (human_concat['f1_x'] - human_concat['f1_y']).abs()\n",
    "human_sub['f2'] = (human_concat['f2_x'] - human_concat['f2_y']).abs()\n",
    "human_sub['f3'] = (human_concat['f3_x'] - human_concat['f3_y']).abs()\n",
    "human_sub['f4'] = (human_concat['f4_x'] - human_concat['f4_y']).abs()\n",
    "human_sub['f5'] = (human_concat['f5_x'] - human_concat['f5_y']).abs()\n",
    "human_sub['f6'] = (human_concat['f6_x'] - human_concat['f6_y']).abs()\n",
    "human_sub['f7'] = (human_concat['f7_x'] - human_concat['f7_y']).abs()\n",
    "human_sub['f8'] = (human_concat['f8_x'] - human_concat['f8_y']).abs()\n",
    "human_sub['f9'] = (human_concat['f9_x'] - human_concat['f9_y']).abs()\n",
    "human_sub['target'] = human_concat[['target']].copy()\n",
    "\n",
    "print(\"\\nShape of Human Observed Dataset With Feature Subtraction is:\")\n",
    "print(human_sub.shape)\n",
    "\n",
    "####################### Creating GSC Dataset with Feature Subtraction ###########################\n",
    "gsc_sub = gsc_concat[['img_id_A', 'img_id_B']].copy()\n",
    "for i in range(1, 513):\n",
    "    gsc_sub['f'+str(i)] = (gsc_concat['f'+ str(i) + '_x'] - gsc_concat['f' + str(i) + '_y']).abs()\n",
    "    gsc_sub['f'+str(i)] += 1\n",
    "gsc_sub['target'] = gsc_concat[['target']].copy()\n",
    "\n",
    "print(\"\\n Shape of GSC Dataset With Feature Subtraction is:\")\n",
    "print(gsc_sub.shape)"
   ]
  },
  {
   "cell_type": "code",
   "execution_count": 10,
   "metadata": {},
   "outputs": [],
   "source": [
    "human_sub_f = human_sub.loc[:,'f1':'f9']\n",
    "human_sub_f_dirty = human_sub_f + 0.00001*np.random.rand(802, 9)\n",
    "human_sub.to_csv('human_sub_t.csv', columns = ['target'], header = False, index = False)\n",
    "human_sub_f_dirty.to_csv('human_sub_X.csv', columns = ['f1', 'f2', 'f3', 'f4', 'f5', 'f6', 'f7', 'f8', 'f9'], header = False, index = False)"
   ]
  },
  {
   "cell_type": "code",
   "execution_count": 11,
   "metadata": {},
   "outputs": [],
   "source": [
    "human_concat_f = human_concat.loc[:, 'f1_x':'f9_y']\n",
    "human_concat_f_dirty = human_concat_f + 0.00001*np.random.rand(802, 18)\n",
    "human_concat.to_csv('human_concat_t.csv', columns = ['target'], header = False, index = False)\n",
    "human_concat_f_dirty.to_csv('human_concat_X.csv', columns = ['f1_x', 'f2_x', 'f3_x', 'f4_x', 'f5_x', 'f6_x', 'f7_x', 'f8_x', 'f9_x', 'f1_y', 'f2_y', 'f3_y', 'f4_y', 'f5_y', 'f6_y', 'f7_y', 'f8_y', 'f9_y'], header = False, index = False)"
   ]
  },
  {
   "cell_type": "code",
   "execution_count": 12,
   "metadata": {},
   "outputs": [],
   "source": [
    "gsc_sub_f = gsc_sub.loc[:,'f1':'f512']\n",
    "gsc_sub_f_dirty = gsc_sub_f + 0.00001*np.random.rand(3021, 512)\n",
    "gsc_sub.to_csv('gsc_sub_t.csv', columns = ['target'], header = False, index = False)\n",
    "gsc_sub_f_dirty.to_csv('gsc_sub_X.csv', columns = gsc_sub_f_dirty.loc[:,'f1':'f512'], header = False, index = False)"
   ]
  },
  {
   "cell_type": "code",
   "execution_count": 13,
   "metadata": {},
   "outputs": [],
   "source": [
    "gsc_concat_f = gsc_concat.loc[:, 'f1_x':'f512_y']\n",
    "gsc_concat_f_dirty = gsc_concat_f + 0.00001*np.random.rand(3021, 1024)\n",
    "gsc_concat.to_csv('gsc_concat_t.csv', columns = ['target'], header = False, index = False)\n",
    "gsc_concat_f_dirty.to_csv('gsc_concat_X.csv', columns = gsc_concat_f_dirty.loc[:, 'f1_x':'f512_y'], header = False, index = False)"
   ]
  },
  {
   "cell_type": "markdown",
   "metadata": {},
   "source": [
    "## Gradient Descent Functions"
   ]
  },
  {
   "cell_type": "code",
   "execution_count": 14,
   "metadata": {},
   "outputs": [],
   "source": [
    "maxAcc = 0.0\n",
    "maxIter = 0\n",
    "C_Lambda = 0.000005\n",
    "TrainingPercent = 80\n",
    "ValidationPercent = 10\n",
    "TestPercent = 10\n",
    "M = 10\n",
    "PHI = []\n",
    "n = 200 #multiplication factor in BigSigma i.e., in np.dot(n, BigSigma)\n",
    "IsSynthetic = False"
   ]
  },
  {
   "cell_type": "code",
   "execution_count": 15,
   "metadata": {},
   "outputs": [],
   "source": [
    "# Creating a List of all the Target Values\n",
    "def GetTargetVector(filePath):\n",
    "    t = []\n",
    "    with open(filePath, 'r') as f:\n",
    "        reader = csv.reader(f)\n",
    "        for row in reader:  \n",
    "            t.append(int(row[0]))\n",
    "    return t\n",
    "\n",
    "# creating target values list for Training data. Training Data set to 80% of the total data \n",
    "def GenerateTrainingTarget(rawTraining,TrainingPercent = 80):\n",
    "    TrainingLen = int(math.ceil(len(rawTraining)*(TrainingPercent*0.01))) #from rawtarget which is a list of length of around 69,000\n",
    "    t           = rawTraining[:TrainingLen] #will slice the list the integer value of TrainingLen\n",
    "    return t\n",
    "\n",
    "def GenerateValTargetVector(rawData, ValPercent, TrainingCount): \n",
    "    valSize = int(math.ceil(len(rawData)*ValPercent*0.01))\n",
    "    V_End = TrainingCount + valSize #end point of validation data\n",
    "    t =rawData[TrainingCount+1:V_End] #slicing to get the validation set target samples\n",
    "    return t\n",
    "\n",
    "# Creating data matrix from the specified csv file\n",
    "def GenerateRawData(filePath, IsSynthetic):    \n",
    "    dataMatrix = [] \n",
    "    with open(filePath, 'r') as fi:\n",
    "        reader = csv.reader(fi)\n",
    "        for row in reader:\n",
    "            dataRow = []\n",
    "            for column in row:\n",
    "                dataRow.append(float(column))\n",
    "            dataMatrix.append(dataRow) \n",
    "\n",
    "    dataMatrix = np.transpose(dataMatrix)     \n",
    "    #print (\"Data Matrix Generated..\")\n",
    "    return dataMatrix\n",
    "\n",
    "# Generating Training data (80% of Total samples)\n",
    "def GenerateTrainingDataMatrix(rawData, TrainingPercent = 80):\n",
    "    T_len = int(math.ceil(len(rawData[0])*0.01*TrainingPercent)) #to determine the number of rows/samples in training data\n",
    "    d2 = rawData[:,0:T_len] #slicing to get training data samples\n",
    "    return d2\n",
    "\n",
    "# Generating Validation data (10% of the data)\n",
    "def GenerateValData(rawData, ValPercent, TrainingCount): \n",
    "    valSize = int(math.ceil(len(rawData[0])*ValPercent*0.01)) #10%\n",
    "    V_End = TrainingCount + valSize\n",
    "    dataMatrix = rawData[:,TrainingCount+1:V_End] \n",
    "    return dataMatrix\n",
    "\n",
    "def GenerateBigSigma(Data, MuMatrix,TrainingPercent,IsSynthetic):\n",
    "    BigSigma    = np.zeros((len(Data),len(Data)))#(41)\n",
    "    DataT       = np.transpose(Data)#60k*41\n",
    "    TrainingLen = math.ceil(len(DataT)*(TrainingPercent*0.01))#60k*0.8=55k        \n",
    "    varVect     = []\n",
    "    for i in range(0,len(DataT[0])):#41\n",
    "        vct = []\n",
    "        for j in range(0,int(TrainingLen)):#50k\n",
    "            vct.append(Data[i][j])    #1*50k:This is list that contains all the input in particular features\n",
    "        varVect.append(np.var(vct))#41*41:Calculating variance here of features\n",
    "\n",
    "    for j in range(len(Data)):\n",
    "        BigSigma[j][j] = varVect[j]#Removing co variance thats is variance between different features\n",
    "    if IsSynthetic == True:\n",
    "        BigSigma = np.dot(3,BigSigma)\n",
    "    else:\n",
    "        BigSigma = np.dot(n,BigSigma) #multiply with different values and see the effect on erms. We are increasing the value of variance\n",
    "    ##print (\"BigSigma Generated..\")\n",
    "    return BigSigma\n",
    "\n",
    "def GetScalar(DataRow,MuRow, BigSigInv):  \n",
    "    R = np.subtract(DataRow,MuRow) # (x-mean)\n",
    "    T = np.dot(BigSigInv,np.transpose(R)) # transpose of (x-mean) * inverse of variance matrix\n",
    "    L = np.dot(R,T) #  (x-mean) * inverse of variance matrix * transpose of (x-mean)\n",
    "    return L\n",
    "\n",
    "# calculating a single feature value\n",
    "def GetRadialBasisOut(DataRow,MuRow, BigSigInv):\n",
    "    phi_x = math.exp(-0.5*GetScalar(DataRow,MuRow,BigSigInv))\n",
    "    return phi_x\n",
    "\n",
    "# generating the PHI/Feature matrix\n",
    "def GetPhiMatrix(Data, MuMatrix, BigSigma, TrainingPercent = 80):\n",
    "    DataT = np.transpose(Data)\n",
    "    TrainingLen = math.ceil(len(DataT)*(TrainingPercent*0.01))         \n",
    "    PHI = np.zeros((int(TrainingLen),len(MuMatrix))) #defining PHI matrix with zeros and dimensions = Training data samples x No. of clusters/basis fn.\n",
    "    BigSigInv = np.linalg.inv(BigSigma)\n",
    "    for  C in range(0,len(MuMatrix)): #for a particular column of the M features\n",
    "        for R in range(0,int(TrainingLen)): # for each row\n",
    "            PHI[R][C] = GetRadialBasisOut(DataT[R], MuMatrix[C], BigSigInv) #generating the FEATURE/PHI matrix\n",
    "    #print (\"PHI Generated..\")\n",
    "    return PHI\n",
    "\n",
    "\n",
    "# finding/generating weights using Moore-Penrose pseudo inverse method including regularization\n",
    "def GetWeightsClosedForm(PHI, T, Lambda):\n",
    "    Lambda_I = np.identity(len(PHI[0])) # identity matrix of 10*10\n",
    "    for i in range(0,len(PHI[0])):\n",
    "        Lambda_I[i][i] = Lambda #creating identity matrix with lambda values\n",
    "    PHI_T       = np.transpose(PHI)\n",
    "    PHI_SQR     = np.dot(PHI_T,PHI)\n",
    "    PHI_SQR_LI  = np.add(Lambda_I,PHI_SQR) #adding regularizer\n",
    "    PHI_SQR_INV = np.linalg.inv(PHI_SQR_LI) # calculating the multiplicative inverse\n",
    "    INTER       = np.dot(PHI_SQR_INV, PHI_T)\n",
    "    W           = np.dot(INTER, T)\n",
    "    ##print (\"Training Weights Generated..\")\n",
    "    return W\n",
    "\n",
    "# predicting the target value\n",
    "def GetValTest(VAL_PHI,W):\n",
    "    Y = np.dot(VAL_PHI, W)\n",
    "    ##print (\"Test Out Generated..\")\n",
    "    return Y\n",
    "\n",
    "\n",
    "# finding Root Mean Square error and Accuracy\n",
    "def GetErms(VAL_TEST_OUT,ValDataAct):\n",
    "    sum = 0.0\n",
    "    t=0\n",
    "    accuracy = 0.0\n",
    "    counter = 0\n",
    "    val = 0.0\n",
    "    for i in range (0,len(VAL_TEST_OUT)):\n",
    "        sum = sum + math.pow((ValDataAct[i] - VAL_TEST_OUT[i]),2) #summation of (Actual target - predicted target)^2\n",
    "        if(int(np.around(VAL_TEST_OUT[i], 0)) == ValDataAct[i]): #rounding the predicted target values to values with no decimal points and comparing with the actual target value\n",
    "            counter+=1\n",
    "    accuracy = (float((counter*100))/float(len(VAL_TEST_OUT)))\n",
    "    return (str(accuracy) + ',' +  str(math.sqrt(sum/len(VAL_TEST_OUT))))"
   ]
  },
  {
   "cell_type": "markdown",
   "metadata": {},
   "source": [
    "## Logistic Regression Functions"
   ]
  },
  {
   "cell_type": "code",
   "execution_count": 16,
   "metadata": {},
   "outputs": [],
   "source": [
    "def sigmoid(VAL_TEST_OUT):\n",
    "    S = 1.0/(1.0 + np.exp(-VAL_TEST_OUT))\n",
    "    return S\n",
    "\n",
    "\n",
    "# predicting the target value\n",
    "def LogPred(VAL_PHI,W):\n",
    "    Y = np.dot(VAL_PHI, W)\n",
    "    Z = sigmoid(Y) #taking sigmoid of the linear prediction\n",
    "    return Z \n",
    "\n",
    "# finding Root Mean Square error and Accuracy\n",
    "def LogGetErms(VAL_TEST_OUT,ValDataAct):\n",
    "    sum = 0.0\n",
    "    t=0\n",
    "    accuracy = 0.0\n",
    "    counter = 0\n",
    "    val = 0.0\n",
    "    for i in range (0,len(VAL_TEST_OUT)):\n",
    "        sum = sum - (np.dot(ValDataAct[i], np.log(VAL_TEST_OUT[i]))) - (np.dot((1-ValDataAct[i]), np.log(1-VAL_TEST_OUT[i]))) #math.pow((ValDataAct[i] - VAL_TEST_OUT[i]),2) #summation of (Actual target - predicted target)^2\n",
    "        if(int(np.around(VAL_TEST_OUT[i], 0)) == ValDataAct[i]): #rounding the predicted target values to values with no decimal points and comparing with the actual target value\n",
    "            counter+=100\n",
    "    accuracy = (float((counter*100))/float(len(VAL_TEST_OUT)))\n",
    "    return (str(accuracy) + ',' +  str(sum/len(VAL_TEST_OUT))) #no need of square root here. This is the average cost/cross-entropy"
   ]
  },
  {
   "cell_type": "markdown",
   "metadata": {},
   "source": [
    "## 1. HUMAN OBSERVED DATASET WITH FEATURE SUBTRACTION"
   ]
  },
  {
   "cell_type": "code",
   "execution_count": 17,
   "metadata": {},
   "outputs": [
    {
     "name": "stdout",
     "output_type": "stream",
     "text": [
      "(642,)\n",
      "(9, 642)\n",
      "(80,)\n",
      "(9, 80)\n",
      "(79,)\n",
      "(9, 79)\n"
     ]
    }
   ],
   "source": [
    "### Fetch and Prepare Datasets\n",
    "RawTarget = GetTargetVector('human_sub_t.csv')\n",
    "RawData   = GenerateRawData('human_sub_X.csv',IsSynthetic)\n",
    "\n",
    "### Prepare Training Data\n",
    "TrainingTarget = np.array(GenerateTrainingTarget(RawTarget,TrainingPercent))\n",
    "TrainingData   = GenerateTrainingDataMatrix(RawData,TrainingPercent)\n",
    "print(TrainingTarget.shape)\n",
    "print(TrainingData.shape)\n",
    "\n",
    "### Prepare Validation Data\n",
    "ValDataAct = np.array(GenerateValTargetVector(RawTarget,ValidationPercent, (len(TrainingTarget))))\n",
    "ValData    = GenerateValData(RawData,ValidationPercent, (len(TrainingTarget)))\n",
    "print(ValDataAct.shape)\n",
    "print(ValData.shape)\n",
    "\n",
    "### Prepare Test Data\n",
    "TestDataAct = np.array(GenerateValTargetVector(RawTarget,TestPercent, (len(TrainingTarget)+len(ValDataAct))))\n",
    "TestData = GenerateValData(RawData,TestPercent, (len(TrainingTarget)+len(ValDataAct)))\n",
    "print(TestDataAct.shape)\n",
    "print(TestData.shape)"
   ]
  },
  {
   "cell_type": "markdown",
   "metadata": {},
   "source": [
    "### 1A. Linear Regression with Gradient Descent (Human Feature Subtraction)"
   ]
  },
  {
   "cell_type": "code",
   "execution_count": 18,
   "metadata": {},
   "outputs": [],
   "source": [
    "ErmsArr = []\n",
    "AccuracyArr = []\n",
    "\n",
    "kmeans = KMeans(n_clusters=M, random_state=0).fit(np.transpose(TrainingData)) #Creating M number of clusters using K-means\n",
    "Mu = kmeans.cluster_centers_ #### Coordinates of cluster centers\n",
    "\n",
    "BigSigma     = GenerateBigSigma(RawData, Mu, TrainingPercent,IsSynthetic)\n",
    "TRAINING_PHI = GetPhiMatrix(RawData, Mu, BigSigma, TrainingPercent)\n",
    "W            = GetWeightsClosedForm(TRAINING_PHI,TrainingTarget,(C_Lambda)) \n",
    "TEST_PHI     = GetPhiMatrix(TestData, Mu, BigSigma, 100) \n",
    "VAL_PHI      = GetPhiMatrix(ValData, Mu, BigSigma, 100)\n",
    "\n",
    "\n",
    "W_Now        = np.dot(0, W) #random initialization, change 220 and see the accuracies\n",
    "# when weights are already low, regularizer will decrease their effect even more and the fit will be very poor\n",
    "#higher weights = better fit\n",
    "La           = 10\n",
    "learningRate = .01\n",
    "L_Erms_Val   = []\n",
    "L_Erms_TR    = []\n",
    "L_Erms_Test  = []\n",
    "W_Mat        = []\n",
    "L_Acc_TR = []\n",
    "L_Acc_Val = []\n",
    "L_Acc_Test = []\n",
    "x1 = 0;\n",
    "xn = 256; \n",
    "\n",
    "for i in range(x1,xn): #choose different number of samples and measure the erms, plot between them\n",
    "    \n",
    "    #print ('---------Iteration: ' + str(i) + '--------------')\n",
    "    Delta_E_D     = -np.dot((TrainingTarget[i] - np.dot(np.transpose(W_Now),TRAINING_PHI[i])),TRAINING_PHI[i])\n",
    "    La_Delta_E_W  = np.dot(La,W_Now)\n",
    "    Delta_E       = np.add(Delta_E_D,La_Delta_E_W) #adding regularizer\n",
    "    Delta_W       = -np.dot(learningRate,Delta_E) #multiplying with learning rate\n",
    "    W_T_Next      = W_Now + Delta_W\n",
    "    W_Now         = W_T_Next\n",
    "    \n",
    "    #-----------------TrainingData Accuracy---------------------#\n",
    "    TR_TEST_OUT   = GetValTest(TRAINING_PHI,W_T_Next) \n",
    "    Erms_TR       = GetErms(TR_TEST_OUT,TrainingTarget)\n",
    "    L_Erms_TR.append(float(Erms_TR.split(',')[1]))\n",
    "    L_Acc_TR.append(float(Erms_TR.split(',')[0]))\n",
    "    \n",
    "    #-----------------ValidationData Accuracy---------------------#\n",
    "    VAL_TEST_OUT  = GetValTest(VAL_PHI,W_T_Next) \n",
    "    Erms_Val      = GetErms(VAL_TEST_OUT,ValDataAct)\n",
    "    L_Erms_Val.append(float(Erms_Val.split(',')[1]))\n",
    "    L_Acc_Val.append(float(Erms_Val.split(',')[0]))\n",
    "    \n",
    "    #-----------------TestingData Accuracy---------------------#\n",
    "    TEST_OUT      = GetValTest(TEST_PHI,W_T_Next) \n",
    "    Erms_Test = GetErms(TEST_OUT,TestDataAct)\n",
    "    L_Erms_Test.append(float(Erms_Test.split(',')[1]))\n",
    "    L_Acc_Test.append(float(Erms_Test.split(',')[0]))"
   ]
  },
  {
   "cell_type": "code",
   "execution_count": 19,
   "metadata": {},
   "outputs": [
    {
     "name": "stdout",
     "output_type": "stream",
     "text": [
      "----------Gradient Descent Solution--------------------\n",
      "M = 10\n",
      "Lambda = 0.0390625\n",
      "eta = 0.01\n",
      "E_rms Training   = 0.49833\n",
      "E_rms Validation = 0.48687\n",
      "E_rms Testing    = 0.47466\n"
     ]
    }
   ],
   "source": [
    "print ('----------Gradient Descent Solution--------------------')\n",
    "print (\"M = \" + str(M))\n",
    "print(\"Lambda = \" + str(La/np.subtract(xn, x1))) # lambda is La/no. of samples\n",
    "print(\"eta = \" + str(learningRate))\n",
    "print (\"E_rms Training   = \" + str(np.around(min(L_Erms_TR),5)))\n",
    "print (\"E_rms Validation = \" + str(np.around(min(L_Erms_Val),5)))\n",
    "print (\"E_rms Testing    = \" + str(np.around(min(L_Erms_Test),5)))"
   ]
  },
  {
   "cell_type": "markdown",
   "metadata": {},
   "source": [
    "### 1B. Logistic Regression With Gradient Descent (Human Feature Subtraction)"
   ]
  },
  {
   "cell_type": "code",
   "execution_count": 20,
   "metadata": {},
   "outputs": [],
   "source": [
    "ErmsArr = []\n",
    "AccuracyArr = []\n",
    "\n",
    "kmeans = KMeans(n_clusters=M, random_state=0).fit(np.transpose(TrainingData)) #Creating M number of clusters using K-means\n",
    "Mu = kmeans.cluster_centers_ #### Coordinates of cluster centers\n",
    "\n",
    "BigSigma     = GenerateBigSigma(RawData, Mu, TrainingPercent,IsSynthetic)\n",
    "TRAINING_PHI = GetPhiMatrix(RawData, Mu, BigSigma, TrainingPercent)\n",
    "W            = GetWeightsClosedForm(TRAINING_PHI,TrainingTarget,(C_Lambda)) \n",
    "TEST_PHI     = GetPhiMatrix(TestData, Mu, BigSigma, 100) \n",
    "VAL_PHI      = GetPhiMatrix(ValData, Mu, BigSigma, 100)\n",
    "\n",
    "\n",
    "W_Now        = np.dot(0, W) #random initialization, change 220 and see the accuracies\n",
    "# when weights are already low, regularizer will decrease their effect even more and the fit will be very poor\n",
    "#higher weights = better fit\n",
    "La           = 10\n",
    "learningRate = .01\n",
    "L_Erms_Val   = []\n",
    "L_Erms_TR    = []\n",
    "L_Erms_Test  = []\n",
    "W_Mat        = []\n",
    "L_Acc_TR = []\n",
    "L_Acc_Val = []\n",
    "L_Acc_Test = []\n",
    "x1 = 0;\n",
    "xn = 256; \n",
    "\n",
    "for i in range(x1,xn): #choose different number of samples and measure the erms, plot between them\n",
    "    \n",
    "    #print ('---------Iteration: ' + str(i) + '--------------')\n",
    "    #Delta_E_D     = -np.dot((TrainingTarget[i] - np.dot(np.transpose(W_Now),TRAINING_PHI[i])),TRAINING_PHI[i])\n",
    "    Delta_E_D     = -np.dot((TrainingTarget[i] - sigmoid(np.dot(np.transpose(W_Now), TRAINING_PHI[i]))), TRAINING_PHI[i])\n",
    "    La_Delta_E_W  = np.dot(La,W_Now)\n",
    "    Delta_E       = np.add(Delta_E_D,La_Delta_E_W) #adding regularizer\n",
    "    Delta_W       = -np.dot(learningRate,Delta_E) #multiplying with learning rate\n",
    "    W_T_Next      = W_Now + Delta_W\n",
    "    W_Now         = W_T_Next\n",
    "    \n",
    "    #-----------------TrainingData Accuracy---------------------#\n",
    "    TR_TEST_OUT   = LogPred(TRAINING_PHI,W_T_Next) \n",
    "    Erms_TR       = LogGetErms(TR_TEST_OUT,TrainingTarget)\n",
    "    L_Erms_TR.append(float(Erms_TR.split(',')[1]))\n",
    "    L_Acc_TR.append(float(Erms_TR.split(',')[0]))\n",
    "    \n",
    "    #-----------------ValidationData Accuracy---------------------#\n",
    "    VAL_TEST_OUT  = LogPred(VAL_PHI,W_T_Next) \n",
    "    Erms_Val      = LogGetErms(VAL_TEST_OUT,ValDataAct)\n",
    "    L_Erms_Val.append(float(Erms_Val.split(',')[1]))\n",
    "    L_Acc_Val.append(float(Erms_Val.split(',')[0]))\n",
    "    \n",
    "    #-----------------TestingData Accuracy---------------------#\n",
    "    TEST_OUT      = LogPred(TEST_PHI,W_T_Next) \n",
    "    Erms_Test = LogGetErms(TEST_OUT,TestDataAct)\n",
    "    L_Erms_Test.append(float(Erms_Test.split(',')[1]))\n",
    "    L_Acc_Test.append(float(Erms_Test.split(',')[0]))"
   ]
  },
  {
   "cell_type": "code",
   "execution_count": 21,
   "metadata": {},
   "outputs": [
    {
     "name": "stdout",
     "output_type": "stream",
     "text": [
      "----------Logistic Regression using Stochastic Gradient Descent--------------------\n",
      "M = 10\n",
      "Lambda = 0.03906\n",
      "eta = 0.01\n",
      "Cross-Entropy Training   = 0.68528\n",
      "Cross-Entropy Validation = 0.67299\n",
      "Cross-Entropy Testing    = 0.66143\n"
     ]
    }
   ],
   "source": [
    "print ('----------Logistic Regression using Stochastic Gradient Descent--------------------')\n",
    "print (\"M = \" + str(M))\n",
    "print(\"Lambda = \" + str(np.around((La/np.subtract(xn, x1)), decimals = 5))) # lambda is La/no. of samples\n",
    "print(\"eta = \" + str(learningRate))\n",
    "print (\"Cross-Entropy Training   = \" + str(np.around(min(L_Erms_TR),5)))\n",
    "print (\"Cross-Entropy Validation = \" + str(np.around(min(L_Erms_Val),5)))\n",
    "print (\"Cross-Entropy Testing    = \" + str(np.around(min(L_Erms_Test),5)))"
   ]
  },
  {
   "cell_type": "markdown",
   "metadata": {},
   "source": [
    "### 1C. Neural Network Implementation (Human Feature Subtraction)"
   ]
  },
  {
   "cell_type": "code",
   "execution_count": 22,
   "metadata": {},
   "outputs": [
    {
     "name": "stdout",
     "output_type": "stream",
     "text": [
      "hs_train_target shape is: (721,)\n",
      "hs_train_features shape is: (721, 9)\n",
      "hs_test_target shape is: (81,)\n",
      "hs_test_features shape is: (81, 9)\n"
     ]
    }
   ],
   "source": [
    "# Human Observed Dataset with Subtraction\n",
    "hs = human_sub.drop(['img_id_A', 'img_id_B'], axis = 1)\n",
    "\n",
    "train, test = train_test_split(hs, test_size=0.1) #splitting to training and testing data\n",
    "\n",
    "# Training Data\n",
    "hs_train_target = train['target']\n",
    "hs_train_features = train.drop(['target'], axis = 1)\n",
    "\n",
    "# Testing Data\n",
    "hs_test_target = test['target']\n",
    "hs_test_features = test.drop(['target'], axis = 1)\n",
    "\n",
    "print(\"hs_train_target shape is: \" + str(hs_train_target.shape))\n",
    "print(\"hs_train_features shape is: \" + str(hs_train_features.shape))\n",
    "print(\"hs_test_target shape is: \" + str(hs_test_target.shape))\n",
    "print(\"hs_test_features shape is: \" + str(hs_test_features.shape))"
   ]
  },
  {
   "cell_type": "code",
   "execution_count": 25,
   "metadata": {},
   "outputs": [],
   "source": [
    "K.clear_session()\n",
    "model = Sequential()\n",
    "model.add(Dense(256, input_dim = 9, kernel_initializer = 'uniform', activation = 'relu'))\n",
    "model.add(Dropout(0.4))\n",
    "model.add(Dense(1, activation = 'sigmoid'))\n",
    "\n",
    "model.compile('RMSprop', 'binary_crossentropy', metrics = ['accuracy'])\n",
    "\n",
    "# earlystopping_cb = EarlyStopping(monitor='val_loss', verbose=0, patience=300, mode='max')\n",
    "\n",
    "history = model.fit(hs_train_features, hs_train_target,\n",
    "                    validation_split = 0.1,\n",
    "                    batch_size = 256,\n",
    "                    epochs = 500,\n",
    "                    verbose = 0)"
   ]
  },
  {
   "cell_type": "code",
   "execution_count": null,
   "metadata": {
    "scrolled": true
   },
   "outputs": [],
   "source": [
    "%matplotlib inline\n",
    "df = pd.DataFrame(history.history)\n",
    "df.plot(subplots=True, grid=True, figsize=(10,15))"
   ]
  },
  {
   "cell_type": "markdown",
   "metadata": {},
   "source": [
    "#### Evaluation"
   ]
  },
  {
   "cell_type": "code",
   "execution_count": 26,
   "metadata": {},
   "outputs": [
    {
     "name": "stdout",
     "output_type": "stream",
     "text": [
      "81/81 [==============================] - 0s 118us/step\n",
      "\n",
      "Binary Crossentropy loss: 70.91%\n",
      "\n",
      "acc: 56.79%\n"
     ]
    }
   ],
   "source": [
    "scores = model.evaluate(hs_test_features, hs_test_target)\n",
    "# scores[1]\n",
    "print(\"\\nBinary Crossentropy %s: %.2f%%\" % (model.metrics_names[0], scores[0]*100))\n",
    "print(\"\\n%s: %.2f%%\" % (model.metrics_names[1], scores[1]*100))"
   ]
  },
  {
   "cell_type": "markdown",
   "metadata": {},
   "source": [
    "### 2. HUMAN OBSERVED DATASET WITH FEATURE CONCATENATION"
   ]
  },
  {
   "cell_type": "code",
   "execution_count": 554,
   "metadata": {},
   "outputs": [
    {
     "name": "stdout",
     "output_type": "stream",
     "text": [
      "(642,)\n",
      "(18, 642)\n",
      "(80,)\n",
      "(18, 80)\n",
      "(80,)\n",
      "(18, 80)\n"
     ]
    }
   ],
   "source": [
    "RawTarget = GetTargetVector('human_concat_t.csv')\n",
    "RawData   = GenerateRawData('human_concat_X.csv',IsSynthetic)\n",
    "\n",
    "TrainingTarget = np.array(GenerateTrainingTarget(RawTarget,TrainingPercent))\n",
    "TrainingData   = GenerateTrainingDataMatrix(RawData,TrainingPercent)\n",
    "print(TrainingTarget.shape)\n",
    "print(TrainingData.shape)\n",
    "\n",
    "ValDataAct = np.array(GenerateValTargetVector(RawTarget,ValidationPercent, (len(TrainingTarget))))\n",
    "ValData    = GenerateValData(RawData,ValidationPercent, (len(TrainingTarget)))\n",
    "print(ValDataAct.shape)\n",
    "print(ValData.shape)\n",
    "\n",
    "TestDataAct = np.array(GenerateValTargetVector(RawTarget,TestPercent, (len(TrainingTarget)+len(ValDataAct))))\n",
    "TestData = GenerateValData(RawData,TestPercent, (len(TrainingTarget)+len(ValDataAct)))\n",
    "print(ValDataAct.shape)\n",
    "print(ValData.shape)"
   ]
  },
  {
   "cell_type": "markdown",
   "metadata": {},
   "source": [
    "### 2A. Linear Regression with Gradient Descent (Human Feature Concatenation)\n"
   ]
  },
  {
   "cell_type": "code",
   "execution_count": 439,
   "metadata": {},
   "outputs": [],
   "source": [
    "ErmsArr = []\n",
    "AccuracyArr = []\n",
    "\n",
    "kmeans = KMeans(n_clusters=M, random_state=0).fit(np.transpose(TrainingData)) #Creating M number of clusters using K-means\n",
    "Mu = kmeans.cluster_centers_ #### Coordinates of cluster centers\n",
    "\n",
    "BigSigma     = GenerateBigSigma(RawData, Mu, TrainingPercent,IsSynthetic)\n",
    "TRAINING_PHI = GetPhiMatrix(RawData, Mu, BigSigma, TrainingPercent)\n",
    "W            = GetWeightsClosedForm(TRAINING_PHI,TrainingTarget,(C_Lambda)) \n",
    "TEST_PHI     = GetPhiMatrix(TestData, Mu, BigSigma, 100) \n",
    "VAL_PHI      = GetPhiMatrix(ValData, Mu, BigSigma, 100)\n",
    "\n",
    "\n",
    "W_Now        = np.dot(0, W) #random initialization, change 220 and see the accuracies\n",
    "# when weights are already low, regularizer will decrease their effect even more and the fit will be very poor\n",
    "#higher weights = better fit\n",
    "La           = 10\n",
    "learningRate = 0.01\n",
    "L_Erms_Val   = []\n",
    "L_Erms_TR    = []\n",
    "L_Erms_Test  = []\n",
    "W_Mat        = []\n",
    "L_Acc_TR = []\n",
    "L_Acc_Val = []\n",
    "L_Acc_Test = []\n",
    "x1 = 0;\n",
    "xn = 256; \n",
    "\n",
    "for i in range(x1,xn): #choose different number of samples and measure the erms, plot between them\n",
    "    \n",
    "    #print ('---------Iteration: ' + str(i) + '--------------')\n",
    "    Delta_E_D     = -np.dot((TrainingTarget[i] - np.dot(np.transpose(W_Now),TRAINING_PHI[i])),TRAINING_PHI[i])\n",
    "    La_Delta_E_W  = np.dot(La,W_Now)\n",
    "    Delta_E       = np.add(Delta_E_D,La_Delta_E_W) #adding regularizer\n",
    "    Delta_W       = -np.dot(learningRate,Delta_E) #multiplying with learning rate\n",
    "    W_T_Next      = W_Now + Delta_W\n",
    "    W_Now         = W_T_Next\n",
    "    \n",
    "    #-----------------TrainingData Accuracy---------------------#\n",
    "    TR_TEST_OUT   = GetValTest(TRAINING_PHI,W_T_Next) \n",
    "    Erms_TR       = GetErms(TR_TEST_OUT,TrainingTarget)\n",
    "    L_Erms_TR.append(float(Erms_TR.split(',')[1]))\n",
    "    L_Acc_TR.append(float(Erms_TR.split(',')[0]))\n",
    "    \n",
    "    #-----------------ValidationData Accuracy---------------------#\n",
    "    VAL_TEST_OUT  = GetValTest(VAL_PHI,W_T_Next) \n",
    "    Erms_Val      = GetErms(VAL_TEST_OUT,ValDataAct)\n",
    "    L_Erms_Val.append(float(Erms_Val.split(',')[1]))\n",
    "    L_Acc_Val.append(float(Erms_Val.split(',')[0]))\n",
    "    \n",
    "    #-----------------TestingData Accuracy---------------------#\n",
    "    TEST_OUT      = GetValTest(TEST_PHI,W_T_Next) \n",
    "    Erms_Test = GetErms(TEST_OUT,TestDataAct)\n",
    "    L_Erms_Test.append(float(Erms_Test.split(',')[1]))\n",
    "    L_Acc_Test.append(float(Erms_Test.split(',')[0]))"
   ]
  },
  {
   "cell_type": "code",
   "execution_count": 440,
   "metadata": {},
   "outputs": [
    {
     "name": "stdout",
     "output_type": "stream",
     "text": [
      "----------Gradient Descent Solution--------------------\n",
      "M = 10\n",
      "Lambda = 0.0390625\n",
      "eta = 0.01\n",
      "E_rms Training   = 0.49934\n",
      "E_rms Validation = 0.48659\n",
      "E_rms Testing    = 0.47387\n"
     ]
    }
   ],
   "source": [
    "print ('----------Gradient Descent Solution--------------------')\n",
    "print (\"M = \" + str(M))\n",
    "print(\"Lambda = \" + str(La/np.subtract(xn, x1))) # lambda is La/no. of samples\n",
    "print(\"eta = \" + str(learningRate))\n",
    "print (\"E_rms Training   = \" + str(np.around(min(L_Erms_TR),5)))\n",
    "print (\"E_rms Validation = \" + str(np.around(min(L_Erms_Val),5)))\n",
    "print (\"E_rms Testing    = \" + str(np.around(min(L_Erms_Test),5)))"
   ]
  },
  {
   "cell_type": "markdown",
   "metadata": {},
   "source": [
    "### 2B. Logistic Regression with Gradient Descent (Human Feature Concatenation)"
   ]
  },
  {
   "cell_type": "code",
   "execution_count": 555,
   "metadata": {},
   "outputs": [],
   "source": [
    "ErmsArr = []\n",
    "AccuracyArr = []\n",
    "\n",
    "kmeans = KMeans(n_clusters=M, random_state=0).fit(np.transpose(TrainingData)) #Creating M number of clusters using K-means\n",
    "Mu = kmeans.cluster_centers_ #### Coordinates of cluster centers\n",
    "\n",
    "BigSigma     = GenerateBigSigma(RawData, Mu, TrainingPercent,IsSynthetic)\n",
    "TRAINING_PHI = GetPhiMatrix(RawData, Mu, BigSigma, TrainingPercent)\n",
    "W            = GetWeightsClosedForm(TRAINING_PHI,TrainingTarget,(C_Lambda)) \n",
    "TEST_PHI     = GetPhiMatrix(TestData, Mu, BigSigma, 100) \n",
    "VAL_PHI      = GetPhiMatrix(ValData, Mu, BigSigma, 100)\n",
    "\n",
    "\n",
    "W_Now        = np.dot(0, W) #random initialization, change 220 and see the accuracies\n",
    "# when weights are already low, regularizer will decrease their effect even more and the fit will be very poor\n",
    "#higher weights = better fit\n",
    "La           = 10\n",
    "learningRate = .01\n",
    "L_Erms_Val   = []\n",
    "L_Erms_TR    = []\n",
    "L_Erms_Test  = []\n",
    "W_Mat        = []\n",
    "L_Acc_TR = []\n",
    "L_Acc_Val = []\n",
    "L_Acc_Test = []\n",
    "x1 = 0;\n",
    "xn = 256; \n",
    "\n",
    "for i in range(x1,xn): #choose different number of samples and measure the erms, plot between them\n",
    "    \n",
    "    #print ('---------Iteration: ' + str(i) + '--------------')\n",
    "    Delta_E_D     = -np.dot((TrainingTarget[i] - sigmoid(np.dot(np.transpose(W_Now), TRAINING_PHI[i]))), TRAINING_PHI[i])\n",
    "    La_Delta_E_W  = np.dot(La,W_Now)\n",
    "    Delta_E       = np.add(Delta_E_D,La_Delta_E_W) #adding regularizer\n",
    "    Delta_W       = -np.dot(learningRate,Delta_E) #multiplying with learning rate\n",
    "    W_T_Next      = W_Now + Delta_W\n",
    "    W_Now         = W_T_Next\n",
    "    \n",
    "    #-----------------TrainingData Accuracy---------------------#\n",
    "    TR_TEST_OUT   = LogPred(TRAINING_PHI,W_T_Next) \n",
    "    Erms_TR       = LogGetErms(TR_TEST_OUT,TrainingTarget)\n",
    "    L_Erms_TR.append(float(Erms_TR.split(',')[1]))\n",
    "    L_Acc_TR.append(float(Erms_TR.split(',')[0]))\n",
    "    \n",
    "    #-----------------ValidationData Accuracy---------------------#\n",
    "    VAL_TEST_OUT  = LogPred(VAL_PHI,W_T_Next) \n",
    "    Erms_Val      = LogGetErms(VAL_TEST_OUT,ValDataAct)\n",
    "    L_Erms_Val.append(float(Erms_Val.split(',')[1]))\n",
    "    L_Acc_Val.append(float(Erms_Val.split(',')[0]))\n",
    "    \n",
    "    #-----------------TestingData Accuracy---------------------#\n",
    "    TEST_OUT      = LogPred(TEST_PHI,W_T_Next) \n",
    "    Erms_Test = LogGetErms(TEST_OUT,TestDataAct)\n",
    "    L_Erms_Test.append(float(Erms_Test.split(',')[1]))\n",
    "    L_Acc_Test.append(float(Erms_Test.split(',')[0]))"
   ]
  },
  {
   "cell_type": "code",
   "execution_count": 556,
   "metadata": {},
   "outputs": [
    {
     "name": "stdout",
     "output_type": "stream",
     "text": [
      "----------Logistic Regression using Stochastic Gradient Descent--------------------\n",
      "M = 10\n",
      "Lambda = 0.03906\n",
      "eta = 0.01\n",
      "Cross-Entropy Training   = 0.68537\n",
      "Cross-Entropy Validation = 0.67364\n",
      "Cross-Entropy Testing    = 0.66276\n",
      "\n"
     ]
    }
   ],
   "source": [
    "print ('----------Logistic Regression using Stochastic Gradient Descent--------------------')\n",
    "print (\"M = \" + str(M))\n",
    "print(\"Lambda = \" + str(np.around((La/np.subtract(xn, x1)), decimals = 5))) # lambda is La/no. of samples\n",
    "print(\"eta = \" + str(learningRate))\n",
    "print (\"Cross-Entropy Training   = \" + str(np.around(min(L_Erms_TR),5)))\n",
    "print (\"Cross-Entropy Validation = \" + str(np.around(min(L_Erms_Val),5)))\n",
    "print (\"Cross-Entropy Testing    = \" + str(np.around(min(L_Erms_Test),5)))\n",
    "print()"
   ]
  },
  {
   "cell_type": "markdown",
   "metadata": {},
   "source": [
    "### 2C. Neural Network Implementation (Human Feature Concatenation)"
   ]
  },
  {
   "cell_type": "code",
   "execution_count": 27,
   "metadata": {},
   "outputs": [
    {
     "name": "stdout",
     "output_type": "stream",
     "text": [
      "hc_train_target shape is: (721,)\n",
      "hc_train_features shape is: (721, 18)\n",
      "hc_test_target shape is: (81,)\n",
      "hc_test_features shape is: (81, 18)\n"
     ]
    }
   ],
   "source": [
    "# Human Observed Dataset with Subtraction\n",
    "hc = human_concat.drop(['img_id_A', 'img_id_B'], axis = 1)\n",
    "\n",
    "train, test = train_test_split(hc, test_size=0.1) #splitting to training and testing data\n",
    "\n",
    "# Training Data\n",
    "hc_train_target = train['target']\n",
    "hc_train_features = train.drop(['target'], axis = 1)\n",
    "\n",
    "# Testing Data\n",
    "hc_test_target = test['target']\n",
    "hc_test_features = test.drop(['target'], axis = 1)\n",
    "\n",
    "print(\"hc_train_target shape is: \" + str(hc_train_target.shape))\n",
    "print(\"hc_train_features shape is: \" + str(hc_train_features.shape))\n",
    "print(\"hc_test_target shape is: \" + str(hc_test_target.shape))\n",
    "print(\"hc_test_features shape is: \" + str(hc_test_features.shape))"
   ]
  },
  {
   "cell_type": "code",
   "execution_count": 30,
   "metadata": {},
   "outputs": [],
   "source": [
    "K.clear_session()\n",
    "model = Sequential()\n",
    "model.add(Dense(256, input_dim = 18, kernel_initializer = 'uniform', activation = 'relu'))\n",
    "model.add(Dropout(0.4))\n",
    "model.add(Dense(1, activation = 'sigmoid'))\n",
    "\n",
    "model.compile('RMSprop', 'binary_crossentropy', metrics = ['accuracy'])\n",
    "\n",
    "history = model.fit(hc_train_features, hc_train_target,\n",
    "                    validation_split = 0.1,\n",
    "                    batch_size = 256,\n",
    "                    epochs = 500,\n",
    "                    verbose = 0)"
   ]
  },
  {
   "cell_type": "code",
   "execution_count": null,
   "metadata": {},
   "outputs": [],
   "source": [
    "%matplotlib inline\n",
    "df = pd.DataFrame(history.history)\n",
    "df.plot(subplots=True, grid=True, figsize=(10,15))"
   ]
  },
  {
   "cell_type": "markdown",
   "metadata": {},
   "source": [
    "#### Evaluation"
   ]
  },
  {
   "cell_type": "code",
   "execution_count": 31,
   "metadata": {},
   "outputs": [
    {
     "name": "stdout",
     "output_type": "stream",
     "text": [
      "81/81 [==============================] - 0s 36us/step\n",
      "\n",
      "Binary Crossentropy loss: 86.07%\n",
      "\n",
      "acc: 51.85%\n"
     ]
    }
   ],
   "source": [
    "scores = model.evaluate(hc_test_features, hc_test_target)\n",
    "# scores[1]\n",
    "print(\"\\nBinary Crossentropy %s: %.2f%%\" % (model.metrics_names[0], scores[0]*100))\n",
    "print(\"\\n%s: %.2f%%\" % (model.metrics_names[1], scores[1]*100))"
   ]
  },
  {
   "cell_type": "markdown",
   "metadata": {},
   "source": [
    "### 3. GSC DATASET WITH FEATURE SUBTRACTION"
   ]
  },
  {
   "cell_type": "code",
   "execution_count": 557,
   "metadata": {},
   "outputs": [
    {
     "name": "stdout",
     "output_type": "stream",
     "text": [
      "(2417,)\n",
      "(512, 2417)\n",
      "(302,)\n",
      "(512, 302)\n",
      "(302,)\n",
      "(512, 302)\n"
     ]
    }
   ],
   "source": [
    "### Fetch and Prepare Datasets\n",
    "RawTarget = GetTargetVector('gsc_sub_t.csv')\n",
    "RawData   = GenerateRawData('gsc_sub_X.csv',IsSynthetic)\n",
    "\n",
    "### Prepare Training Data\n",
    "TrainingTarget = np.array(GenerateTrainingTarget(RawTarget,TrainingPercent))\n",
    "TrainingData   = GenerateTrainingDataMatrix(RawData,TrainingPercent)\n",
    "print(TrainingTarget.shape)\n",
    "print(TrainingData.shape)\n",
    "\n",
    "### Prepare Validation Data\n",
    "ValDataAct = np.array(GenerateValTargetVector(RawTarget,ValidationPercent, (len(TrainingTarget))))\n",
    "ValData    = GenerateValData(RawData,ValidationPercent, (len(TrainingTarget)))\n",
    "print(ValDataAct.shape)\n",
    "print(ValData.shape)\n",
    "\n",
    "### Prepare Test Data\n",
    "TestDataAct = np.array(GenerateValTargetVector(RawTarget,TestPercent, (len(TrainingTarget)+len(ValDataAct))))\n",
    "TestData = GenerateValData(RawData,TestPercent, (len(TrainingTarget)+len(ValDataAct)))\n",
    "print(ValDataAct.shape)\n",
    "print(ValData.shape)"
   ]
  },
  {
   "cell_type": "markdown",
   "metadata": {},
   "source": [
    "### 3A. Linear Regression with Gradient Descent (GSC Feature Subtraction)"
   ]
  },
  {
   "cell_type": "code",
   "execution_count": 424,
   "metadata": {},
   "outputs": [],
   "source": [
    "ErmsArr = []\n",
    "AccuracyArr = []\n",
    "\n",
    "kmeans = KMeans(n_clusters=M, random_state=12).fit(np.transpose(TrainingData)) #Creating M number of clusters using K-means\n",
    "Mu = kmeans.cluster_centers_ #### Coordinates of cluster centers\n",
    "\n",
    "BigSigma     = GenerateBigSigma(RawData, Mu, TrainingPercent,IsSynthetic)\n",
    "TRAINING_PHI = GetPhiMatrix(RawData, Mu, BigSigma, TrainingPercent)\n",
    "W            = GetWeightsClosedForm(TRAINING_PHI,TrainingTarget,(C_Lambda)) \n",
    "TEST_PHI     = GetPhiMatrix(TestData, Mu, BigSigma, 100) \n",
    "VAL_PHI      = GetPhiMatrix(ValData, Mu, BigSigma, 100)\n",
    "\n",
    "\n",
    "W_Now        = np.dot(0, W) #random initialization, change 220 and see the accuracies\n",
    "# when weights are already low, regularizer will decrease their effect even more and the fit will be very poor\n",
    "#higher weights = better fit\n",
    "La           = 10\n",
    "learningRate = .01\n",
    "L_Erms_Val   = []\n",
    "L_Erms_TR    = []\n",
    "L_Erms_Test  = []\n",
    "W_Mat        = []\n",
    "L_Acc_TR = []\n",
    "L_Acc_Val = []\n",
    "L_Acc_Test = []\n",
    "x1 = 0;\n",
    "xn = 256; \n",
    "\n",
    "for i in range(x1,xn): #choose different number of samples and measure the erms, plot between them\n",
    "    \n",
    "    #print ('---------Iteration: ' + str(i) + '--------------')\n",
    "    Delta_E_D     = -np.dot((TrainingTarget[i] - np.dot(np.transpose(W_Now),TRAINING_PHI[i])),TRAINING_PHI[i])\n",
    "    La_Delta_E_W  = np.dot(La,W_Now)\n",
    "    Delta_E       = np.add(Delta_E_D,La_Delta_E_W) #adding regularizer\n",
    "    Delta_W       = -np.dot(learningRate,Delta_E) #multiplying with learning rate\n",
    "    W_T_Next      = W_Now + Delta_W\n",
    "    W_Now         = W_T_Next\n",
    "    \n",
    "    #-----------------TrainingData Accuracy---------------------#\n",
    "    TR_TEST_OUT   = GetValTest(TRAINING_PHI,W_T_Next) \n",
    "    Erms_TR       = GetErms(TR_TEST_OUT,TrainingTarget)\n",
    "    L_Erms_TR.append(float(Erms_TR.split(',')[1]))\n",
    "    L_Acc_TR.append(float(Erms_TR.split(',')[0]))\n",
    "    \n",
    "    #-----------------ValidationData Accuracy---------------------#\n",
    "    VAL_TEST_OUT  = GetValTest(VAL_PHI,W_T_Next) \n",
    "    Erms_Val      = GetErms(VAL_TEST_OUT,ValDataAct)\n",
    "    L_Erms_Val.append(float(Erms_Val.split(',')[1]))\n",
    "    L_Acc_Val.append(float(Erms_Val.split(',')[0]))\n",
    "    \n",
    "    #-----------------TestingData Accuracy---------------------#\n",
    "    TEST_OUT      = GetValTest(TEST_PHI,W_T_Next) \n",
    "    Erms_Test = GetErms(TEST_OUT,TestDataAct)\n",
    "    L_Erms_Test.append(float(Erms_Test.split(',')[1]))\n",
    "    L_Acc_Test.append(float(Erms_Test.split(',')[0]))"
   ]
  },
  {
   "cell_type": "code",
   "execution_count": 425,
   "metadata": {},
   "outputs": [
    {
     "name": "stdout",
     "output_type": "stream",
     "text": [
      "----------Gradient Descent Solution--------------------\n",
      "M = 64\n",
      "Lambda = 0.0390625\n",
      "eta = 0.01\n",
      "E_rms Training   = 0.55676\n",
      "E_rms Validation = 0.57957\n",
      "E_rms Testing    = 0.55824\n"
     ]
    }
   ],
   "source": [
    "print ('----------Gradient Descent Solution--------------------')\n",
    "print (\"M = \" + str(M))\n",
    "print(\"Lambda = \" + str(La/np.subtract(xn, x1))) # lambda is La/no. of samples\n",
    "print(\"eta = \" + str(learningRate))\n",
    "print (\"E_rms Training   = \" + str(np.around(min(L_Erms_TR),5)))\n",
    "print (\"E_rms Validation = \" + str(np.around(min(L_Erms_Val),5)))\n",
    "print (\"E_rms Testing    = \" + str(np.around(min(L_Erms_Test),5)))"
   ]
  },
  {
   "cell_type": "markdown",
   "metadata": {},
   "source": [
    "### 3B. Logistic Regression with Gradient Descent  (GSC Feature Subtraction)"
   ]
  },
  {
   "cell_type": "code",
   "execution_count": 558,
   "metadata": {},
   "outputs": [],
   "source": [
    "ErmsArr = []\n",
    "AccuracyArr = []\n",
    "\n",
    "kmeans = KMeans(n_clusters=M, random_state=0).fit(np.transpose(TrainingData)) #Creating M number of clusters using K-means\n",
    "Mu = kmeans.cluster_centers_ #### Coordinates of cluster centers\n",
    "\n",
    "BigSigma     = GenerateBigSigma(RawData, Mu, TrainingPercent,IsSynthetic)\n",
    "TRAINING_PHI = GetPhiMatrix(RawData, Mu, BigSigma, TrainingPercent)\n",
    "W            = GetWeightsClosedForm(TRAINING_PHI,TrainingTarget,(C_Lambda)) \n",
    "TEST_PHI     = GetPhiMatrix(TestData, Mu, BigSigma, 100) \n",
    "VAL_PHI      = GetPhiMatrix(ValData, Mu, BigSigma, 100)\n",
    "\n",
    "\n",
    "W_Now        = np.dot(0, W) #random initialization, change 220 and see the accuracies\n",
    "# when weights are already low, regularizer will decrease their effect even more and the fit will be very poor\n",
    "#higher weights = better fit\n",
    "La           = 10\n",
    "learningRate = .01\n",
    "L_Erms_Val   = []\n",
    "L_Erms_TR    = []\n",
    "L_Erms_Test  = []\n",
    "W_Mat        = []\n",
    "L_Acc_TR = []\n",
    "L_Acc_Val = []\n",
    "L_Acc_Test = []\n",
    "x1 = 0;\n",
    "xn = 256; \n",
    "\n",
    "for i in range(x1,xn): #choose different number of samples and measure the erms, plot between them\n",
    "    \n",
    "    #print ('---------Iteration: ' + str(i) + '--------------')\n",
    "    Delta_E_D     = -np.dot((TrainingTarget[i] - np.dot(np.transpose(W_Now),TRAINING_PHI[i])),TRAINING_PHI[i])\n",
    "    La_Delta_E_W  = np.dot(La,W_Now)\n",
    "    Delta_E       = np.add(Delta_E_D,La_Delta_E_W) #adding regularizer\n",
    "    Delta_W       = -np.dot(learningRate,Delta_E) #multiplying with learning rate\n",
    "    W_T_Next      = W_Now + Delta_W\n",
    "    W_Now         = W_T_Next\n",
    "    \n",
    "    #-----------------TrainingData Accuracy---------------------#\n",
    "    TR_TEST_OUT   = GetValTest(TRAINING_PHI,W_T_Next) \n",
    "    Erms_TR       = GetErms(TR_TEST_OUT,TrainingTarget)\n",
    "    L_Erms_TR.append(float(Erms_TR.split(',')[1]))\n",
    "    L_Acc_TR.append(float(Erms_TR.split(',')[0]))\n",
    "    \n",
    "    #-----------------ValidationData Accuracy---------------------#\n",
    "    VAL_TEST_OUT  = GetValTest(VAL_PHI,W_T_Next) \n",
    "    Erms_Val      = GetErms(VAL_TEST_OUT,ValDataAct)\n",
    "    L_Erms_Val.append(float(Erms_Val.split(',')[1]))\n",
    "    L_Acc_Val.append(float(Erms_Val.split(',')[0]))\n",
    "    \n",
    "    #-----------------TestingData Accuracy---------------------#\n",
    "    TEST_OUT      = GetValTest(TEST_PHI,W_T_Next) \n",
    "    Erms_Test = GetErms(TEST_OUT,TestDataAct)\n",
    "    L_Erms_Test.append(float(Erms_Test.split(',')[1]))\n",
    "    L_Acc_Test.append(float(Erms_Test.split(',')[0]))"
   ]
  },
  {
   "cell_type": "code",
   "execution_count": 559,
   "metadata": {},
   "outputs": [
    {
     "name": "stdout",
     "output_type": "stream",
     "text": [
      "----------Logistic Regression using Stochastic Gradient Descent--------------------\n",
      "M = 10\n",
      "Lambda = 0.03906\n",
      "eta = 0.01\n",
      "Cross-Entropy Training   = 0.65717\n",
      "Cross-Entropy Validation = 0.68414\n",
      "Cross-Entropy Testing    = 0.66558\n"
     ]
    }
   ],
   "source": [
    "print ('----------Logistic Regression using Stochastic Gradient Descent--------------------')\n",
    "print (\"M = \" + str(M))\n",
    "print(\"Lambda = \" + str(np.around((La/np.subtract(xn, x1)), decimals = 5))) # lambda is La/no. of samples\n",
    "print(\"eta = \" + str(learningRate))\n",
    "print (\"Cross-Entropy Training   = \" + str(np.around(min(L_Erms_TR),5)))\n",
    "print (\"Cross-Entropy Validation = \" + str(np.around(min(L_Erms_Val),5)))\n",
    "print (\"Cross-Entropy Testing    = \" + str(np.around(min(L_Erms_Test),5)))"
   ]
  },
  {
   "cell_type": "markdown",
   "metadata": {},
   "source": [
    "### 3C. Neural Network Implementation  (GSC Feature Subtraction)"
   ]
  },
  {
   "cell_type": "code",
   "execution_count": 32,
   "metadata": {},
   "outputs": [
    {
     "name": "stdout",
     "output_type": "stream",
     "text": [
      "gs_train_target shape is: (2718,)\n",
      "gs_train_features shape is: (2718, 512)\n",
      "gs_test_target shape is: (303,)\n",
      "gs_test_features shape is: (303, 512)\n"
     ]
    }
   ],
   "source": [
    "# Human Observed Dataset with Subtraction\n",
    "# gs = gsc_sub.drop(['img_id_A', 'img_id_B'], axis = 1)\n",
    "gs = pd.concat([gsc_sub_f_dirty, gsc_sub['target']], axis = 1) \n",
    "train, test = train_test_split(gs, test_size=0.1) #splitting to training and testing data\n",
    "\n",
    "# Training Data\n",
    "gs_train_target = train['target']\n",
    "gs_train_features = train.drop(['target'], axis = 1)\n",
    "\n",
    "# Testing Data\n",
    "gs_test_target = test['target']\n",
    "gs_test_features = test.drop(['target'], axis = 1)\n",
    "\n",
    "print(\"gs_train_target shape is: \" + str(gs_train_target.shape))\n",
    "print(\"gs_train_features shape is: \" + str(gs_train_features.shape))\n",
    "print(\"gs_test_target shape is: \" + str(gs_test_target.shape))\n",
    "print(\"gs_test_features shape is: \" + str(gs_test_features.shape))"
   ]
  },
  {
   "cell_type": "code",
   "execution_count": 37,
   "metadata": {},
   "outputs": [],
   "source": [
    "K.clear_session()\n",
    "model = Sequential()\n",
    "model.add(Dense(256, input_dim = 512, kernel_initializer = 'uniform', activation = 'relu'))\n",
    "model.add(Dropout(0.4))\n",
    "model.add(Dense(1, activation = 'sigmoid'))\n",
    "\n",
    "model.compile('RMSprop', 'binary_crossentropy', metrics = ['accuracy'])\n",
    "\n",
    "history = model.fit(gs_train_features, gs_train_target,\n",
    "                    validation_split = 0.1,\n",
    "                    batch_size = 256,\n",
    "                    epochs = 500,\n",
    "                    verbose = 0)"
   ]
  },
  {
   "cell_type": "code",
   "execution_count": 659,
   "metadata": {},
   "outputs": [
    {
     "data": {
      "text/plain": [
       "array([<matplotlib.axes._subplots.AxesSubplot object at 0x00000158361FADD8>,\n",
       "       <matplotlib.axes._subplots.AxesSubplot object at 0x0000015845615BA8>,\n",
       "       <matplotlib.axes._subplots.AxesSubplot object at 0x0000015846D06550>,\n",
       "       <matplotlib.axes._subplots.AxesSubplot object at 0x0000015846A8B9E8>],\n",
       "      dtype=object)"
      ]
     },
     "execution_count": 659,
     "metadata": {},
     "output_type": "execute_result"
    },
    {
     "data": {
      "image/png": "[encoded data removed]",
      "text/plain": [
       "<Figure size 720x1080 with 4 Axes>"
      ]
     },
     "metadata": {},
     "output_type": "display_data"
    }
   ],
   "source": [
    "%matplotlib inline\n",
    "df = pd.DataFrame(history.history)\n",
    "df.plot(subplots=True, grid=True, figsize=(10,15))"
   ]
  },
  {
   "cell_type": "markdown",
   "metadata": {},
   "source": [
    "#### Evaluation"
   ]
  },
  {
   "cell_type": "code",
   "execution_count": 36,
   "metadata": {},
   "outputs": [
    {
     "name": "stdout",
     "output_type": "stream",
     "text": [
      "303/303 [==============================] - 0s 51us/step\n",
      "\n",
      "GSC Feature Subtraction - Neural Network Implementation \n",
      "acc: 62.05%\n"
     ]
    }
   ],
   "source": [
    "scores = model.evaluate(gs_test_features, gs_test_target)\n",
    "# print(\"\\nBinary Crossentropy %s: %.2f%%\" % (model.metrics_names[0], scores[0]))\n",
    "print(\"\\nGSC Feature Subtraction - Neural Network Implementation \\n%s: %.2f%%\" % (model.metrics_names[1], scores[1]*100))"
   ]
  },
  {
   "cell_type": "markdown",
   "metadata": {},
   "source": [
    "### 4. GSC DATASET WITH FEATURE CONCATENATION"
   ]
  },
  {
   "cell_type": "code",
   "execution_count": 560,
   "metadata": {},
   "outputs": [
    {
     "name": "stdout",
     "output_type": "stream",
     "text": [
      "(2417,)\n",
      "(1024, 2417)\n",
      "(302,)\n",
      "(1024, 302)\n",
      "(302,)\n",
      "(1024, 302)\n"
     ]
    }
   ],
   "source": [
    "### Fetch and Prepare Datasets\n",
    "RawTarget = GetTargetVector('gsc_concat_t.csv')\n",
    "RawData   = GenerateRawData('gsc_concat_X.csv',IsSynthetic)\n",
    "\n",
    "### Prepare Training Data\n",
    "TrainingTarget = np.array(GenerateTrainingTarget(RawTarget,TrainingPercent))\n",
    "TrainingData   = GenerateTrainingDataMatrix(RawData,TrainingPercent)\n",
    "print(TrainingTarget.shape)\n",
    "print(TrainingData.shape)\n",
    "\n",
    "### Prepare Validation Data\n",
    "ValDataAct = np.array(GenerateValTargetVector(RawTarget,ValidationPercent, (len(TrainingTarget))))\n",
    "ValData    = GenerateValData(RawData,ValidationPercent, (len(TrainingTarget)))\n",
    "print(ValDataAct.shape)\n",
    "print(ValData.shape)\n",
    "\n",
    "### Prepare Test Data\n",
    "TestDataAct = np.array(GenerateValTargetVector(RawTarget,TestPercent, (len(TrainingTarget)+len(ValDataAct))))\n",
    "TestData = GenerateValData(RawData,TestPercent, (len(TrainingTarget)+len(ValDataAct)))\n",
    "print(ValDataAct.shape)\n",
    "print(ValData.shape)"
   ]
  },
  {
   "cell_type": "markdown",
   "metadata": {},
   "source": [
    "### 4A. Linear Regression With Gradient Descent  (GSC Feature Concatenation)"
   ]
  },
  {
   "cell_type": "code",
   "execution_count": 427,
   "metadata": {},
   "outputs": [],
   "source": [
    "ErmsArr = []\n",
    "AccuracyArr = []\n",
    "\n",
    "kmeans = KMeans(n_clusters=M, random_state=12).fit(np.transpose(TrainingData)) #Creating M number of clusters using K-means\n",
    "Mu = kmeans.cluster_centers_ #### Coordinates of cluster centers\n",
    "\n",
    "BigSigma     = GenerateBigSigma(RawData, Mu, TrainingPercent,IsSynthetic)\n",
    "TRAINING_PHI = GetPhiMatrix(RawData, Mu, BigSigma, TrainingPercent)\n",
    "W            = GetWeightsClosedForm(TRAINING_PHI,TrainingTarget,(C_Lambda)) \n",
    "TEST_PHI     = GetPhiMatrix(TestData, Mu, BigSigma, 100) \n",
    "VAL_PHI      = GetPhiMatrix(ValData, Mu, BigSigma, 100)\n",
    "\n",
    "\n",
    "W_Now        = np.dot(0, W) #random initialization, change 220 and see the accuracies\n",
    "# when weights are already low, regularizer will decrease their effect even more and the fit will be very poor\n",
    "#higher weights = better fit\n",
    "La           = 10\n",
    "learningRate = .01\n",
    "L_Erms_Val   = []\n",
    "L_Erms_TR    = []\n",
    "L_Erms_Test  = []\n",
    "W_Mat        = []\n",
    "L_Acc_TR = []\n",
    "L_Acc_Val = []\n",
    "L_Acc_Test = []\n",
    "x1 = 0;\n",
    "xn = 256; \n",
    "\n",
    "for i in range(x1,xn): #choose different number of samples and measure the erms, plot between them\n",
    "    \n",
    "    #print ('---------Iteration: ' + str(i) + '--------------')\n",
    "    Delta_E_D     = -np.dot((TrainingTarget[i] - np.dot(np.transpose(W_Now),TRAINING_PHI[i])),TRAINING_PHI[i])\n",
    "    La_Delta_E_W  = np.dot(La,W_Now)\n",
    "    Delta_E       = np.add(Delta_E_D,La_Delta_E_W) #adding regularizer\n",
    "    Delta_W       = -np.dot(learningRate,Delta_E) #multiplying with learning rate\n",
    "    W_T_Next      = W_Now + Delta_W\n",
    "    W_Now         = W_T_Next\n",
    "    \n",
    "    #-----------------TrainingData Accuracy---------------------#\n",
    "    TR_TEST_OUT   = GetValTest(TRAINING_PHI,W_T_Next) \n",
    "    Erms_TR       = GetErms(TR_TEST_OUT,TrainingTarget)\n",
    "    L_Erms_TR.append(float(Erms_TR.split(',')[1]))\n",
    "    L_Acc_TR.append(float(Erms_TR.split(',')[0]))\n",
    "    \n",
    "    #-----------------ValidationData Accuracy---------------------#\n",
    "    VAL_TEST_OUT  = GetValTest(VAL_PHI,W_T_Next) \n",
    "    Erms_Val      = GetErms(VAL_TEST_OUT,ValDataAct)\n",
    "    L_Erms_Val.append(float(Erms_Val.split(',')[1]))\n",
    "    L_Acc_Val.append(float(Erms_Val.split(',')[0]))\n",
    "    \n",
    "    #-----------------TestingData Accuracy---------------------#\n",
    "    TEST_OUT      = GetValTest(TEST_PHI,W_T_Next) \n",
    "    Erms_Test = GetErms(TEST_OUT,TestDataAct)\n",
    "    L_Erms_Test.append(float(Erms_Test.split(',')[1]))\n",
    "    L_Acc_Test.append(float(Erms_Test.split(',')[0]))"
   ]
  },
  {
   "cell_type": "code",
   "execution_count": 428,
   "metadata": {},
   "outputs": [
    {
     "name": "stdout",
     "output_type": "stream",
     "text": [
      "----------Gradient Descent Solution--------------------\n",
      "M = 64\n",
      "Lambda = 0.0390625\n",
      "eta = 0.01\n",
      "E_rms Training   = 0.67724\n",
      "E_rms Validation = 0.70551\n",
      "E_rms Testing    = 0.68659\n"
     ]
    }
   ],
   "source": [
    "print ('----------Gradient Descent Solution--------------------')\n",
    "print (\"M = \" + str(M))\n",
    "print(\"Lambda = \" + str(La/np.subtract(xn, x1))) # lambda is La/no. of samples\n",
    "print(\"eta = \" + str(learningRate))\n",
    "print (\"E_rms Training   = \" + str(np.around(min(L_Erms_TR),5)))\n",
    "print (\"E_rms Validation = \" + str(np.around(min(L_Erms_Val),5)))\n",
    "print (\"E_rms Testing    = \" + str(np.around(min(L_Erms_Test),5)))"
   ]
  },
  {
   "cell_type": "markdown",
   "metadata": {},
   "source": [
    "### 4B. Logistic Regression with Gradient Descent  (GSC Feature Concatenation)"
   ]
  },
  {
   "cell_type": "code",
   "execution_count": 561,
   "metadata": {},
   "outputs": [],
   "source": [
    "ErmsArr = []\n",
    "AccuracyArr = []\n",
    "\n",
    "kmeans = KMeans(n_clusters=M, random_state=0).fit(np.transpose(TrainingData)) #Creating M number of clusters using K-means\n",
    "Mu = kmeans.cluster_centers_ #### Coordinates of cluster centers\n",
    "\n",
    "BigSigma     = GenerateBigSigma(RawData, Mu, TrainingPercent,IsSynthetic)\n",
    "TRAINING_PHI = GetPhiMatrix(RawData, Mu, BigSigma, TrainingPercent)\n",
    "W            = GetWeightsClosedForm(TRAINING_PHI,TrainingTarget,(C_Lambda)) \n",
    "TEST_PHI     = GetPhiMatrix(TestData, Mu, BigSigma, 100) \n",
    "VAL_PHI      = GetPhiMatrix(ValData, Mu, BigSigma, 100)\n",
    "\n",
    "\n",
    "W_Now        = np.dot(0, W) #random initialization, change 220 and see the accuracies\n",
    "# when weights are already low, regularizer will decrease their effect even more and the fit will be very poor\n",
    "#higher weights = better fit\n",
    "La           = 10\n",
    "learningRate = .01\n",
    "L_Erms_Val   = []\n",
    "L_Erms_TR    = []\n",
    "L_Erms_Test  = []\n",
    "W_Mat        = []\n",
    "L_Acc_TR = []\n",
    "L_Acc_Val = []\n",
    "L_Acc_Test = []\n",
    "x1 = 0;\n",
    "xn = 256; \n",
    "\n",
    "for i in range(x1,xn): #choose different number of samples and measure the erms, plot between them\n",
    "    \n",
    "    #print ('---------Iteration: ' + str(i) + '--------------')\n",
    "    Delta_E_D     = -np.dot((TrainingTarget[i] - np.dot(np.transpose(W_Now),TRAINING_PHI[i])),TRAINING_PHI[i])\n",
    "    La_Delta_E_W  = np.dot(La,W_Now)\n",
    "    Delta_E       = np.add(Delta_E_D,La_Delta_E_W) #adding regularizer\n",
    "    Delta_W       = -np.dot(learningRate,Delta_E) #multiplying with learning rate\n",
    "    W_T_Next      = W_Now + Delta_W\n",
    "    W_Now         = W_T_Next\n",
    "    \n",
    "    #-----------------TrainingData Accuracy---------------------#\n",
    "    TR_TEST_OUT   = GetValTest(TRAINING_PHI,W_T_Next) \n",
    "    Erms_TR       = GetErms(TR_TEST_OUT,TrainingTarget)\n",
    "    L_Erms_TR.append(float(Erms_TR.split(',')[1]))\n",
    "    L_Acc_TR.append(float(Erms_TR.split(',')[0]))\n",
    "    \n",
    "    #-----------------ValidationData Accuracy---------------------#\n",
    "    VAL_TEST_OUT  = GetValTest(VAL_PHI,W_T_Next) \n",
    "    Erms_Val      = GetErms(VAL_TEST_OUT,ValDataAct)\n",
    "    L_Erms_Val.append(float(Erms_Val.split(',')[1]))\n",
    "    L_Acc_Val.append(float(Erms_Val.split(',')[0]))\n",
    "    \n",
    "    #-----------------TestingData Accuracy---------------------#\n",
    "    TEST_OUT      = GetValTest(TEST_PHI,W_T_Next) \n",
    "    Erms_Test = GetErms(TEST_OUT,TestDataAct)\n",
    "    L_Erms_Test.append(float(Erms_Test.split(',')[1]))\n",
    "    L_Acc_Test.append(float(Erms_Test.split(',')[0]))"
   ]
  },
  {
   "cell_type": "code",
   "execution_count": 562,
   "metadata": {},
   "outputs": [
    {
     "name": "stdout",
     "output_type": "stream",
     "text": [
      "----------Logistic Regression using Stochastic Gradient Descent--------------------\n",
      "M = 10\n",
      "Lambda = 0.03906\n",
      "eta = 0.01\n",
      "Cross-Entropy Training   = 0.69324\n",
      "Cross-Entropy Validation = 0.72091\n",
      "Cross-Entropy Testing    = 0.70322\n"
     ]
    }
   ],
   "source": [
    "print ('----------Logistic Regression using Stochastic Gradient Descent--------------------')\n",
    "print (\"M = \" + str(M))\n",
    "print(\"Lambda = \" + str(np.around((La/np.subtract(xn, x1)), decimals = 5))) # lambda is La/no. of samples\n",
    "print(\"eta = \" + str(learningRate))\n",
    "print (\"Cross-Entropy Training   = \" + str(np.around(min(L_Erms_TR),5)))\n",
    "print (\"Cross-Entropy Validation = \" + str(np.around(min(L_Erms_Val),5)))\n",
    "print (\"Cross-Entropy Testing    = \" + str(np.around(min(L_Erms_Test),5)))"
   ]
  },
  {
   "cell_type": "markdown",
   "metadata": {},
   "source": [
    "### 4C. Neural Network Implementation  (GSC Feature Concatenation)"
   ]
  },
  {
   "cell_type": "code",
   "execution_count": 39,
   "metadata": {},
   "outputs": [
    {
     "name": "stdout",
     "output_type": "stream",
     "text": [
      "gc_train_target shape is: (2718,)\n",
      "gc_train_features shape is: (2718, 1024)\n",
      "gc_test_target shape is: (303,)\n",
      "gc_test_features shape is: (303, 1024)\n"
     ]
    }
   ],
   "source": [
    "# Human Observed Dataset with Subtraction\n",
    "# gs = gsc_sub.drop(['img_id_A', 'img_id_B'], axis = 1)\n",
    "gc = pd.concat([gsc_concat_f_dirty, gsc_concat['target']], axis = 1) \n",
    "train, test = train_test_split(gc, test_size=0.1) #splitting to training and testing data\n",
    "\n",
    "# Training Data\n",
    "gc_train_target = train['target']\n",
    "gc_train_features = train.drop(['target'], axis = 1)\n",
    "\n",
    "# Testing Data\n",
    "gc_test_target = test['target']\n",
    "gc_test_features = test.drop(['target'], axis = 1)\n",
    "\n",
    "print(\"gc_train_target shape is: \" + str(gc_train_target.shape))\n",
    "print(\"gc_train_features shape is: \" + str(gc_train_features.shape))\n",
    "print(\"gc_test_target shape is: \" + str(gc_test_target.shape))\n",
    "print(\"gc_test_features shape is: \" + str(gc_test_features.shape))"
   ]
  },
  {
   "cell_type": "code",
   "execution_count": 45,
   "metadata": {},
   "outputs": [],
   "source": [
    "K.clear_session()\n",
    "model = Sequential()\n",
    "model.add(Dense(256, input_dim = 1024, kernel_initializer = 'uniform', activation = 'relu'))\n",
    "model.add(Dropout(0.2))\n",
    "model.add(Dense(1, activation = 'sigmoid'))\n",
    "\n",
    "model.compile('RMSprop', 'binary_crossentropy', metrics = ['accuracy'])\n",
    "\n",
    "history = model.fit(gc_train_features, gc_train_target,\n",
    "                    validation_split = 0.1,\n",
    "                    batch_size = 256,\n",
    "                    epochs = 500,\n",
    "                    verbose = 0)"
   ]
  },
  {
   "cell_type": "code",
   "execution_count": 46,
   "metadata": {},
   "outputs": [
    {
     "data": {
      "text/plain": [
       "array([<matplotlib.axes._subplots.AxesSubplot object at 0x0000018E893D4C88>,\n",
       "       <matplotlib.axes._subplots.AxesSubplot object at 0x0000018E9560F860>,\n",
       "       <matplotlib.axes._subplots.AxesSubplot object at 0x0000018E98AEBA20>,\n",
       "       <matplotlib.axes._subplots.AxesSubplot object at 0x0000018E9C588BE0>],\n",
       "      dtype=object)"
      ]
     },
     "execution_count": 46,
     "metadata": {},
     "output_type": "execute_result"
    },
    {
     "data": {
      "image/png": "[encoded data removed]",
      "text/plain": [
       "<Figure size 720x1080 with 4 Axes>"
      ]
     },
     "metadata": {},
     "output_type": "display_data"
    }
   ],
   "source": [
    "%matplotlib inline\n",
    "df = pd.DataFrame(history.history)\n",
    "df.plot(subplots=True, grid=True, figsize=(10,15))"
   ]
  },
  {
   "cell_type": "markdown",
   "metadata": {},
   "source": [
    "#### Evaluation"
   ]
  },
  {
   "cell_type": "code",
   "execution_count": 47,
   "metadata": {},
   "outputs": [
    {
     "name": "stdout",
     "output_type": "stream",
     "text": [
      "303/303 [==============================] - 0s 56us/step\n",
      "\n",
      "GSC Feature Subtraction - Neural Network Implementation \n",
      "acc: 64.69%\n"
     ]
    }
   ],
   "source": [
    "scores = model.evaluate(gc_test_features, gc_test_target)\n",
    "# print(\"\\nBinary Crossentropy %s: %.2f%%\" % (model.metrics_names[0], scores[0]))\n",
    "print(\"\\nGSC Feature Subtraction - Neural Network Implementation \\n%s: %.2f%%\" % (model.metrics_names[1], scores[1]*100))"
   ]
  },
  {
   "cell_type": "code",
   "execution_count": null,
   "metadata": {},
   "outputs": [],
   "source": []
  },
  {
   "cell_type": "code",
   "execution_count": null,
   "metadata": {},
   "outputs": [],
   "source": []
  }
 ],
 "metadata": {
  "kernelspec": {
   "display_name": "Python 3",
   "language": "python",
   "name": "python3"
  },
  "language_info": {
   "codemirror_mode": {
    "name": "ipython",
    "version": 3
   },
   "file_extension": ".py",
   "mimetype": "text/x-python",
   "name": "python",
   "nbconvert_exporter": "python",
   "pygments_lexer": "ipython3",
   "version": "3.6.5"
  }
 },
 "nbformat": 4,
 "nbformat_minor": 2
}
